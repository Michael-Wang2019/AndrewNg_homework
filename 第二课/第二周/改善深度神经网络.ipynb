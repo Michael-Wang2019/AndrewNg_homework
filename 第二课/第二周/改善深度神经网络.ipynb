{
 "cells": [
  {
   "cell_type": "markdown",
   "metadata": {},
   "source": [
    "# 在正式开始之前，我们说一下我们要做什么。我们需要做的是分割数据集和优化梯度下降算法，所以我们需要做以下几件事： \n",
    "#   1. 分割数据集 \n",
    "#   2. 优化梯度下降算法： \n",
    "#      2.1 不使用任何优化算法 \n",
    "#      2.2 mini-batch梯度下降法 \n",
    "#      2.3 使用具有动量的梯度下降算法 \n",
    "#      2.4 使用Adam算法"
   ]
  },
  {
   "cell_type": "code",
   "execution_count": 1,
   "metadata": {},
   "outputs": [],
   "source": [
    "import numpy as np\n",
    "import matplotlib.pyplot as plt\n",
    "import scipy.io\n",
    "import math\n",
    "import sklearn\n",
    "import sklearn.datasets\n",
    "\n",
    "import opt_utils\n",
    "import testCase\n",
    "\n",
    "plt.rcParams['figure.figsize'] = (7.0, 4.0) # set default size of plots\n",
    "plt.rcParams['image.interpolation'] = 'nearest'\n",
    "plt.rcParams['image.cmap'] = 'gray'"
   ]
  },
  {
   "cell_type": "markdown",
   "metadata": {},
   "source": [
    "# 梯度下降"
   ]
  },
  {
   "cell_type": "code",
   "execution_count": 2,
   "metadata": {},
   "outputs": [],
   "source": [
    "def update_parameters_with_gd(parameters, grads, leadrning_rate):\n",
    "#   \"\"\"\n",
    "#     使用梯度下降更新参数\n",
    "\n",
    "#     参数：\n",
    "#         parameters - 字典，包含了要更新的参数：\n",
    "#             parameters['W' + str(l)] = Wl\n",
    "#             parameters['b' + str(l)] = bl\n",
    "#         grads - 字典，包含了每一个梯度值用以更新参数\n",
    "#             grads['dW' + str(l)] = dWl\n",
    "#             grads['db' + str(l)] = dbl\n",
    "#         learning_rate - 学习率\n",
    "\n",
    "#     返回值：\n",
    "#         parameters - 字典，包含了更新后的参数\n",
    "#     \"\"\"\n",
    "    L = len(parameters) // 2\n",
    "    \n",
    "    #更新每个参数\n",
    "    for l in range(L):\n",
    "        parameters[\"W\" + str(l + 1)] = parameters[\"W\" + str(l + 1)] - learning_rate * grads[\"dW\" + str(l + 1)]\n",
    "        parameters[\"b\" + str(l+ 1 )] = parameters[\"b\" + str(l + 1)] - learning_rate * grads[\"db\" + str(l + 1)]     \n",
    "    return parameters"
   ]
  },
  {
   "cell_type": "code",
   "execution_count": 3,
   "metadata": {},
   "outputs": [
    {
     "name": "stdout",
     "output_type": "stream",
     "text": [
      "-------------测试update_parameters_with_gd-------------\n",
      "W1 = [[ 1.63535156 -0.62320365 -0.53718766]\n",
      " [-1.07799357  0.85639907 -2.29470142]]\n",
      "b1 = [[ 1.74604067]\n",
      " [-0.75184921]]\n",
      "W2 = [[ 0.32171798 -0.25467393  1.46902454]\n",
      " [-2.05617317 -0.31554548 -0.3756023 ]\n",
      " [ 1.1404819  -1.09976462 -0.1612551 ]]\n",
      "b2 = [[-0.88020257]\n",
      " [ 0.02561572]\n",
      " [ 0.57539477]]\n"
     ]
    }
   ],
   "source": [
    "#测试update_parameters_with_gd\n",
    "print(\"-------------测试update_parameters_with_gd-------------\")\n",
    "parameters , grads , learning_rate = testCase.update_parameters_with_gd_test_case()\n",
    "parameters = update_parameters_with_gd(parameters,grads,learning_rate)\n",
    "print(\"W1 = \" + str(parameters[\"W1\"]))\n",
    "print(\"b1 = \" + str(parameters[\"b1\"]))\n",
    "print(\"W2 = \" + str(parameters[\"W2\"]))\n",
    "print(\"b2 = \" + str(parameters[\"b2\"]))"
   ]
  },
  {
   "cell_type": "markdown",
   "metadata": {},
   "source": [
    "由梯度下降算法演变来的还有随机梯度下降（SGD）算法和小批量梯度下降算法，随机梯度下降（SGD），相当于小批量梯度下降，但是和mini-batch不同的是其中每个小批量(mini-batch)仅有1个样本，和梯度下降不同的是你一次只能在一个训练样本上计算梯度，而不是在整个训练集上计算梯度。我们来看一下它们的差异"
   ]
  },
  {
   "cell_type": "code",
   "execution_count": 4,
   "metadata": {},
   "outputs": [],
   "source": [
    "# #仅做比较，不运行。\n",
    "\n",
    "# #批量梯度下降，又叫梯度下降\n",
    "# X = data_input\n",
    "# Y = labels\n",
    "\n",
    "# parameters = initialize_parameters(layers_dims)\n",
    "# for i in range(0,num_iterations):\n",
    "#     #前向传播\n",
    "#     A,cache = forward_propagation(X,parameters)\n",
    "#     #计算损失\n",
    "#     cost = compute_cost(A,Y)\n",
    "#     #反向传播\n",
    "#     grads = backward_propagation(X,Y,cache)\n",
    "#     #更新参数\n",
    "#     parameters = update_parameters(parameters,grads)\n",
    "\n",
    "# #随机梯度下降算法：\n",
    "# X = data_input\n",
    "# Y = labels\n",
    "# parameters = initialize_parameters(layers_dims)\n",
    "# for i in (0,num_iterations):\n",
    "#     for j in m:\n",
    "#         #前向传播\n",
    "#         A,cache = forward_propagation(X,parameters)\n",
    "#         #计算成本\n",
    "#         cost = compute_cost(A,Y)\n",
    "#         #后向传播\n",
    "#         grads = backward_propagation(X,Y,cache)\n",
    "#         #更新参数\n",
    "#         parameters = update_parameters(parameters,grads)\n",
    "\n"
   ]
  },
  {
   "cell_type": "markdown",
   "metadata": {},
   "source": [
    "# mini-batch梯度下降法"
   ]
  },
  {
   "cell_type": "code",
   "execution_count": 5,
   "metadata": {},
   "outputs": [],
   "source": [
    "def random_mini_batches(X, Y, mini_batch_size = 64, seed = 0):\n",
    "#   \"\"\"\n",
    "#     从（X，Y）中创建一个随机的mini-batch列表\n",
    "\n",
    "#     参数：\n",
    "#         X - 输入数据，维度为(输入节点数量，样本的数量)\n",
    "#         Y - 对应的是X的标签，【1 | 0】（蓝|红），维度为(1,样本的数量)\n",
    "#         mini_batch_size - 每个mini-batch的样本数量\n",
    "\n",
    "#     返回：\n",
    "#         mini-bacthes - 一个同步列表，维度为（mini_batch_X,mini_batch_Y）\n",
    "\n",
    "#   \"\"\"\n",
    "    np.random.seed(seed)\n",
    "    m = X.shape[1] # x样本的数量\n",
    "    mini_batches = []\n",
    "    \n",
    "    # 第一步: 打乱顺序\n",
    "    permutation = list(np.random.permutation(m)) #  返回一个长度为m的随机数组\n",
    "    shuffled_X = X[:, permutation]  #将每一列数据按permutation的顺序重新排序\n",
    "    shuffled_Y = Y[:, permutation].reshape((1, m))\n",
    "    \n",
    "    # 第二步：分割\n",
    "    num_complete_minibatches = math.floor(m / mini_batch_size) # 向下取整, 把训练集分成的份数\n",
    "    for k in range(0, num_complete_minibatches):\n",
    "        mini_batch_X = shuffled_X[:, k * mini_batch_size : (k + 1) * mini_batch_size]\n",
    "        mini_batch_Y = shuffled_Y[:, k * mini_batch_size : (k + 1) * mini_batch_size]\n",
    "        mini_batch = (mini_batch_X, mini_batch_Y)\n",
    "        mini_batches.append(mini_batch)\n",
    "    \n",
    "    #如果训练集的大小刚好是mini_batch_size的整数倍，那么这里已经处理完了\n",
    "    #如果训练集的大小不是mini_batch_size的整数倍，那么最后肯定会剩下一些，我们要把它处理了\n",
    "    if m % mini_batch_size != 0:\n",
    "        #获取最后剩余的部分\n",
    "        mini_batch_X = shuffled_X[:, mini_batch_size * num_complete_minibatches :]\n",
    "        mini_batch_Y = shuffled_Y[:, mini_batch_size * num_complete_minibatches :]\n",
    "\n",
    "        mini_batch = (mini_batch_X,mini_batch_Y)\n",
    "        mini_batches.append(mini_batch)\n",
    "\n",
    "    return mini_batches"
   ]
  },
  {
   "cell_type": "code",
   "execution_count": 6,
   "metadata": {},
   "outputs": [
    {
     "name": "stdout",
     "output_type": "stream",
     "text": [
      "-------------测试random_mini_batches-------------\n",
      "第1个mini_batch_X 的维度为： (12288, 64)\n",
      "第1个mini_batch_Y 的维度为： (1, 64)\n",
      "第2个mini_batch_X 的维度为： (12288, 64)\n",
      "第2个mini_batch_Y 的维度为： (1, 64)\n",
      "第3个mini_batch_X 的维度为： (12288, 20)\n",
      "第3个mini_batch_Y 的维度为： (1, 20)\n"
     ]
    }
   ],
   "source": [
    "#测试random_mini_batches\n",
    "print(\"-------------测试random_mini_batches-------------\")\n",
    "X_assess,Y_assess,mini_batch_size = testCase.random_mini_batches_test_case()\n",
    "mini_batches = random_mini_batches(X_assess,Y_assess,mini_batch_size)\n",
    "\n",
    "print(\"第1个mini_batch_X 的维度为：\",mini_batches[0][0].shape)\n",
    "print(\"第1个mini_batch_Y 的维度为：\",mini_batches[0][1].shape)\n",
    "print(\"第2个mini_batch_X 的维度为：\",mini_batches[1][0].shape)\n",
    "print(\"第2个mini_batch_Y 的维度为：\",mini_batches[1][1].shape)\n",
    "print(\"第3个mini_batch_X 的维度为：\",mini_batches[2][0].shape)\n",
    "\n",
    "print(\"第3个mini_batch_Y 的维度为：\",mini_batches[2][1].shape)"
   ]
  },
  {
   "cell_type": "markdown",
   "metadata": {},
   "source": [
    "# 包含动量的梯度下降"
   ]
  },
  {
   "cell_type": "markdown",
   "metadata": {},
   "source": [
    "   由于小批量梯度下降只看到了一个子集的参数更新，更新的方向有一定的差异，所以小批量梯度下降的路径将“振荡地”走向收敛，使用动量可以减少这些振荡，动量考虑了过去的梯度以平滑更新， 我们将把以前梯度的方向存储在变量v中，从形式讲，这将是前面的梯度的指数加权平均值。我们也可以把V看作是滚下坡的速度，根据山坡的坡度建立动量。\n"
   ]
  },
  {
   "cell_type": "code",
   "execution_count": 7,
   "metadata": {
    "collapsed": true
   },
   "outputs": [],
   "source": [
    "def initialize_velocity(parameters):\n",
    "#   \"\"\"\n",
    "#     初始化速度，velocity是一个字典：\n",
    "#         - keys: \"dW1\", \"db1\", ..., \"dWL\", \"dbL\" \n",
    "#         - values:与相应的梯度/参数维度相同的值为零的矩阵。\n",
    "#     参数：\n",
    "#         parameters - 一个字典，包含了以下参数：\n",
    "#             parameters[\"W\" + str(l)] = Wl\n",
    "#             parameters[\"b\" + str(l)] = bl\n",
    "#     返回:\n",
    "#         v - 一个字典变量，包含了以下参数：\n",
    "#             v[\"dW\" + str(l)] = dWl的速度\n",
    "#             v[\"db\" + str(l)] = dbl的速度\n",
    "\n",
    "#   \"\"\"\n",
    "    L = len(parameters) // 2\n",
    "    v = {}\n",
    "    for l in range(L):\n",
    "        v[\"dW\" + str(l + 1)] = np.zeros_like(parameters[\"W\" + str(l + 1)])\n",
    "        v[\"db\" + str(l + 1)] = np.zeros_like(parameters[\"b\" + str(l + 1)])\n",
    "    return v"
   ]
  },
  {
   "cell_type": "code",
   "execution_count": 8,
   "metadata": {},
   "outputs": [
    {
     "name": "stdout",
     "output_type": "stream",
     "text": [
      "-------------测试initialize_velocity-------------\n",
      "v[\"dW1\"] = [[0. 0. 0.]\n",
      " [0. 0. 0.]]\n",
      "v[\"db1\"] = [[0.]\n",
      " [0.]]\n",
      "v[\"dW2\"] = [[0. 0. 0.]\n",
      " [0. 0. 0.]\n",
      " [0. 0. 0.]]\n",
      "v[\"db2\"] = [[0.]\n",
      " [0.]\n",
      " [0.]]\n"
     ]
    }
   ],
   "source": [
    "#测试initialize_velocity\n",
    "print(\"-------------测试initialize_velocity-------------\")\n",
    "parameters = testCase.initialize_velocity_test_case()\n",
    "v = initialize_velocity(parameters)\n",
    "\n",
    "print('v[\"dW1\"] = ' + str(v[\"dW1\"]))\n",
    "print('v[\"db1\"] = ' + str(v[\"db1\"]))\n",
    "print('v[\"dW2\"] = ' + str(v[\"dW2\"]))\n",
    "print('v[\"db2\"] = ' + str(v[\"db2\"]))"
   ]
  },
  {
   "cell_type": "code",
   "execution_count": 9,
   "metadata": {
    "collapsed": true
   },
   "outputs": [],
   "source": [
    "def update_parameters_with_momentun(parameters,grads,v,beta,learning_rate):\n",
    "#     \"\"\"\n",
    "#     使用动量更新参数\n",
    "#     参数：\n",
    "#         parameters - 一个字典类型的变量，包含了以下字段：\n",
    "#             parameters[\"W\" + str(l)] = Wl\n",
    "#             parameters[\"b\" + str(l)] = bl\n",
    "#         grads - 一个包含梯度值的字典变量，具有以下字段：\n",
    "#             grads[\"dW\" + str(l)] = dWl\n",
    "#             grads[\"db\" + str(l)] = dbl\n",
    "#         v - 包含当前速度的字典变量，具有以下字段：\n",
    "#             v[\"dW\" + str(l)] = ...\n",
    "#             v[\"db\" + str(l)] = ...\n",
    "#         beta - 超参数，动量，实数\n",
    "#         learning_rate - 学习率，实数\n",
    "#     返回：\n",
    "#         parameters - 更新后的参数字典\n",
    "#         v - 包含了更新后的速度变量\n",
    "#     \"\"\"\n",
    "    L = len(parameters) // 2 \n",
    "    for l in range(L):\n",
    "        #计算速度\n",
    "        v[\"dW\" + str(l + 1)] = beta * v[\"dW\" + str(l + 1)] + (1 - beta) * grads[\"dW\" + str(l + 1)]\n",
    "        v[\"db\" + str(l + 1)] = beta * v[\"db\" + str(l + 1)] + (1 - beta) * grads[\"db\" + str(l + 1)]\n",
    "\n",
    "        #更新参数\n",
    "        parameters[\"W\" + str(l + 1)] = parameters[\"W\" + str(l + 1)] - learning_rate * v[\"dW\" + str(l + 1)]\n",
    "        parameters[\"b\" + str(l + 1)] = parameters[\"b\" + str(l + 1)] - learning_rate * v[\"db\" + str(l + 1)]\n",
    "\n",
    "    return parameters,v"
   ]
  },
  {
   "cell_type": "code",
   "execution_count": 10,
   "metadata": {},
   "outputs": [
    {
     "name": "stdout",
     "output_type": "stream",
     "text": [
      "-------------测试update_parameters_with_momentun-------------\n",
      "W1 = [[ 1.62544598 -0.61290114 -0.52907334]\n",
      " [-1.07347112  0.86450677 -2.30085497]]\n",
      "b1 = [[ 1.74493465]\n",
      " [-0.76027113]]\n",
      "W2 = [[ 0.31930698 -0.24990073  1.4627996 ]\n",
      " [-2.05974396 -0.32173003 -0.38320915]\n",
      " [ 1.13444069 -1.0998786  -0.1713109 ]]\n",
      "b2 = [[-0.87809283]\n",
      " [ 0.04055394]\n",
      " [ 0.58207317]]\n",
      "v[\"dW1\"] = [[-0.11006192  0.11447237  0.09015907]\n",
      " [ 0.05024943  0.09008559 -0.06837279]]\n",
      "v[\"db1\"] = [[-0.01228902]\n",
      " [-0.09357694]]\n",
      "v[\"dW2\"] = [[-0.02678881  0.05303555 -0.06916608]\n",
      " [-0.03967535 -0.06871727 -0.08452056]\n",
      " [-0.06712461 -0.00126646 -0.11173103]]\n",
      "v[\"db2\"] = [[0.02344157]\n",
      " [0.16598022]\n",
      " [0.07420442]]\n"
     ]
    }
   ],
   "source": [
    "#测试update_parameters_with_momentun\n",
    "print(\"-------------测试update_parameters_with_momentun-------------\")\n",
    "parameters,grads,v = testCase.update_parameters_with_momentum_test_case()\n",
    "update_parameters_with_momentun(parameters,grads,v,beta=0.9,learning_rate=0.01)\n",
    "\n",
    "print(\"W1 = \" + str(parameters[\"W1\"]))\n",
    "print(\"b1 = \" + str(parameters[\"b1\"]))\n",
    "print(\"W2 = \" + str(parameters[\"W2\"]))\n",
    "print(\"b2 = \" + str(parameters[\"b2\"]))\n",
    "print('v[\"dW1\"] = ' + str(v[\"dW1\"]))\n",
    "print('v[\"db1\"] = ' + str(v[\"db1\"]))\n",
    "print('v[\"dW2\"] = ' + str(v[\"dW2\"]))\n",
    "print('v[\"db2\"] = ' + str(v[\"db2\"]))"
   ]
  },
  {
   "cell_type": "markdown",
   "metadata": {},
   "source": [
    "# Adam算法"
   ]
  },
  {
   "cell_type": "markdown",
   "metadata": {},
   "source": [
    "Adam算法是训练神经网络中最有效的算法之一，它是RMSProp算法与Momentum算法的结合体。我们来看看它都干了些什么吧~ \n",
    "1. 计算以前的梯度的指数加权平均值，并将其存储在变量vv（偏差校正前）和vcorrectedvcorrected（偏差校正后）中。 \n",
    "2. 计算以前梯度的平方的指数加权平均值，并将其存储在变量ss（偏差校正前）和scorrectedscorrected（偏差校正后）中。 \n",
    "3. 根据1和2更新参数\n"
   ]
  },
  {
   "cell_type": "code",
   "execution_count": 11,
   "metadata": {
    "collapsed": true
   },
   "outputs": [],
   "source": [
    "def initialize_adam(parameters):\n",
    "#     \"\"\"\n",
    "#     初始化v和s，它们都是字典类型的变量，都包含了以下字段：\n",
    "#         - keys: \"dW1\", \"db1\", ..., \"dWL\", \"dbL\" \n",
    "#         - values：与对应的梯度/参数相同维度的值为零的numpy矩阵\n",
    "\n",
    "#     参数：\n",
    "#         parameters - 包含了以下参数的字典变量：\n",
    "#             parameters[\"W\" + str(l)] = Wl\n",
    "#             parameters[\"b\" + str(l)] = bl\n",
    "#     返回：\n",
    "#         v - 包含梯度的指数加权平均值，字段如下：\n",
    "#             v[\"dW\" + str(l)] = ...\n",
    "#             v[\"db\" + str(l)] = ...\n",
    "#         s - 包含平方梯度的指数加权平均值，字段如下：\n",
    "#             s[\"dW\" + str(l)] = ...\n",
    "#             s[\"db\" + str(l)] = ...\n",
    "\n",
    "#     \"\"\"\n",
    "\n",
    "    L = len(parameters) // 2\n",
    "    v = {}\n",
    "    s = {}\n",
    "\n",
    "    for l in range(L):\n",
    "        v[\"dW\" + str(l + 1)] = np.zeros_like(parameters[\"W\" + str(l + 1)])\n",
    "        v[\"db\" + str(l + 1)] = np.zeros_like(parameters[\"b\" + str(l + 1)])\n",
    "\n",
    "        s[\"dW\" + str(l + 1)] = np.zeros_like(parameters[\"W\" + str(l + 1)])\n",
    "        s[\"db\" + str(l + 1)] = np.zeros_like(parameters[\"b\" + str(l + 1)])\n",
    "\n",
    "    return (v,s)\n"
   ]
  },
  {
   "cell_type": "code",
   "execution_count": 12,
   "metadata": {},
   "outputs": [
    {
     "name": "stdout",
     "output_type": "stream",
     "text": [
      "-------------测试initialize_adam-------------\n",
      "v[\"dW1\"] = [[0. 0. 0.]\n",
      " [0. 0. 0.]]\n",
      "v[\"db1\"] = [[0.]\n",
      " [0.]]\n",
      "v[\"dW2\"] = [[0. 0. 0.]\n",
      " [0. 0. 0.]\n",
      " [0. 0. 0.]]\n",
      "v[\"db2\"] = [[0.]\n",
      " [0.]\n",
      " [0.]]\n",
      "s[\"dW1\"] = [[0. 0. 0.]\n",
      " [0. 0. 0.]]\n",
      "s[\"db1\"] = [[0.]\n",
      " [0.]]\n",
      "s[\"dW2\"] = [[0. 0. 0.]\n",
      " [0. 0. 0.]\n",
      " [0. 0. 0.]]\n",
      "s[\"db2\"] = [[0.]\n",
      " [0.]\n",
      " [0.]]\n"
     ]
    }
   ],
   "source": [
    "#测试initialize_adam\n",
    "print(\"-------------测试initialize_adam-------------\")\n",
    "parameters = testCase.initialize_adam_test_case()\n",
    "v,s = initialize_adam(parameters)\n",
    "\n",
    "print('v[\"dW1\"] = ' + str(v[\"dW1\"])) \n",
    "print('v[\"db1\"] = ' + str(v[\"db1\"])) \n",
    "print('v[\"dW2\"] = ' + str(v[\"dW2\"])) \n",
    "print('v[\"db2\"] = ' + str(v[\"db2\"])) \n",
    "print('s[\"dW1\"] = ' + str(s[\"dW1\"])) \n",
    "print('s[\"db1\"] = ' + str(s[\"db1\"])) \n",
    "print('s[\"dW2\"] = ' + str(s[\"dW2\"])) \n",
    "print('s[\"db2\"] = ' + str(s[\"db2\"])) "
   ]
  },
  {
   "cell_type": "code",
   "execution_count": 13,
   "metadata": {
    "collapsed": true
   },
   "outputs": [],
   "source": [
    "def update_parameters_with_adam(parameters,grads,v,s,t,learning_rate=0.01,beta1=0.9,beta2=0.999,epsilon=1e-8):\n",
    "#   \"\"\"\n",
    "#     使用Adam更新参数\n",
    "\n",
    "#     参数：\n",
    "#         parameters - 包含了以下字段的字典：\n",
    "#             parameters['W' + str(l)] = Wl\n",
    "#             parameters['b' + str(l)] = bl\n",
    "#         grads - 包含了梯度值的字典，有以下key值：\n",
    "#             grads['dW' + str(l)] = dWl\n",
    "#             grads['db' + str(l)] = dbl\n",
    "#         v - Adam的变量，第一个梯度的移动平均值，是一个字典类型的变量\n",
    "#         s - Adam的变量，平方梯度的移动平均值，是一个字典类型的变量\n",
    "#         t - 当前迭代的次数\n",
    "#         learning_rate - 学习率\n",
    "#         beta1 - 动量，超参数,用于第一阶段，使得曲线的Y值不从0开始（参见天气数据的那个图）\n",
    "#         beta2 - RMSprop的一个参数，超参数\n",
    "#         epsilon - 防止除零操作（分母为0）\n",
    "\n",
    "#     返回：\n",
    "#         parameters - 更新后的参数\n",
    "#         v - 第一个梯度的移动平均值，是一个字典类型的变量\n",
    "#         s - 平方梯度的移动平均值，是一个字典类型的变量\n",
    "#     \"\"\"\n",
    "    L = len(parameters) // 2\n",
    "    v_corrected = {} #偏差修正后的值\n",
    "    s_corrected = {} #偏差修正后的值\n",
    "\n",
    "    for l in range(L):\n",
    "        #梯度的移动平均值,输入：\"v , grads , beta1\",输出：\" v \"\n",
    "        v[\"dW\" + str(l + 1)] = beta1 * v[\"dW\" + str(l + 1)] + (1 - beta1) * grads[\"dW\" + str(l + 1)]\n",
    "        v[\"db\" + str(l + 1)] = beta1 * v[\"db\" + str(l + 1)] + (1 - beta1) * grads[\"db\" + str(l + 1)]\n",
    "\n",
    "        #计算第一阶段的偏差修正后的估计值，输入\"v , beta1 , t\" , 输出：\"v_corrected\"\n",
    "        v_corrected[\"dW\" + str(l + 1)] = v[\"dW\" + str(l + 1)] / (1 - np.power(beta1,t))\n",
    "        v_corrected[\"db\" + str(l + 1)] = v[\"db\" + str(l + 1)] / (1 - np.power(beta1,t))\n",
    "\n",
    "        #计算平方梯度的移动平均值，输入：\"s, grads , beta2\"，输出：\"s\"\n",
    "        s[\"dW\" + str(l + 1)] = beta2 * s[\"dW\" + str(l + 1)] + (1 - beta2) * np.square(grads[\"dW\" + str(l + 1)])\n",
    "        s[\"db\" + str(l + 1)] = beta2 * s[\"db\" + str(l + 1)] + (1 - beta2) * np.square(grads[\"db\" + str(l + 1)])\n",
    "\n",
    "        #计算第二阶段的偏差修正后的估计值，输入：\"s , beta2 , t\"，输出：\"s_corrected\"\n",
    "        s_corrected[\"dW\" + str(l + 1)] = s[\"dW\" + str(l + 1)] / (1 - np.power(beta2,t))\n",
    "        s_corrected[\"db\" + str(l + 1)] = s[\"db\" + str(l + 1)] / (1 - np.power(beta2,t))\n",
    "\n",
    "        #更新参数，输入: \"parameters, learning_rate, v_corrected, s_corrected, epsilon\". 输出: \"parameters\".\n",
    "        parameters[\"W\" + str(l + 1)] = parameters[\"W\" + str(l + 1)] - learning_rate * (v_corrected[\"dW\" + str(l + 1)] / np.sqrt(s_corrected[\"dW\" + str(l + 1)] + epsilon))\n",
    "        parameters[\"b\" + str(l + 1)] = parameters[\"b\" + str(l + 1)] - learning_rate * (v_corrected[\"db\" + str(l + 1)] / np.sqrt(s_corrected[\"db\" + str(l + 1)] + epsilon))\n",
    "\n",
    "    return (parameters,v,s)"
   ]
  },
  {
   "cell_type": "code",
   "execution_count": 14,
   "metadata": {},
   "outputs": [
    {
     "name": "stdout",
     "output_type": "stream",
     "text": [
      "-------------测试update_with_parameters_with_adam-------------\n",
      "W1 = [[ 1.63178673 -0.61919778 -0.53561312]\n",
      " [-1.08040999  0.85796626 -2.29409733]]\n",
      "b1 = [[ 1.75225313]\n",
      " [-0.75376553]]\n",
      "W2 = [[ 0.32648046 -0.25681174  1.46954931]\n",
      " [-2.05269934 -0.31497584 -0.37661299]\n",
      " [ 1.14121081 -1.09245036 -0.16498684]]\n",
      "b2 = [[-0.88529978]\n",
      " [ 0.03477238]\n",
      " [ 0.57537385]]\n",
      "v[\"dW1\"] = [[-0.11006192  0.11447237  0.09015907]\n",
      " [ 0.05024943  0.09008559 -0.06837279]]\n",
      "v[\"db1\"] = [[-0.01228902]\n",
      " [-0.09357694]]\n",
      "v[\"dW2\"] = [[-0.02678881  0.05303555 -0.06916608]\n",
      " [-0.03967535 -0.06871727 -0.08452056]\n",
      " [-0.06712461 -0.00126646 -0.11173103]]\n",
      "v[\"db2\"] = [[0.02344157]\n",
      " [0.16598022]\n",
      " [0.07420442]]\n",
      "s[\"dW1\"] = [[0.00121136 0.00131039 0.00081287]\n",
      " [0.0002525  0.00081154 0.00046748]]\n",
      "s[\"db1\"] = [[1.51020075e-05]\n",
      " [8.75664434e-04]]\n",
      "s[\"dW2\"] = [[7.17640232e-05 2.81276921e-04 4.78394595e-04]\n",
      " [1.57413361e-04 4.72206320e-04 7.14372576e-04]\n",
      " [4.50571368e-04 1.60392066e-07 1.24838242e-03]]\n",
      "s[\"db2\"] = [[5.49507194e-05]\n",
      " [2.75494327e-03]\n",
      " [5.50629536e-04]]\n"
     ]
    }
   ],
   "source": [
    "#测试update_with_parameters_with_adam\n",
    "print(\"-------------测试update_with_parameters_with_adam-------------\")\n",
    "parameters , grads , v , s = testCase.update_parameters_with_adam_test_case()\n",
    "update_parameters_with_adam(parameters,grads,v,s,t=2)\n",
    "\n",
    "print(\"W1 = \" + str(parameters[\"W1\"]))\n",
    "print(\"b1 = \" + str(parameters[\"b1\"]))\n",
    "print(\"W2 = \" + str(parameters[\"W2\"]))\n",
    "print(\"b2 = \" + str(parameters[\"b2\"]))\n",
    "print('v[\"dW1\"] = ' + str(v[\"dW1\"])) \n",
    "print('v[\"db1\"] = ' + str(v[\"db1\"])) \n",
    "print('v[\"dW2\"] = ' + str(v[\"dW2\"])) \n",
    "print('v[\"db2\"] = ' + str(v[\"db2\"])) \n",
    "print('s[\"dW1\"] = ' + str(s[\"dW1\"])) \n",
    "print('s[\"db1\"] = ' + str(s[\"db1\"])) \n",
    "print('s[\"dW2\"] = ' + str(s[\"dW2\"])) \n",
    "print('s[\"db2\"] = ' + str(s[\"db2\"])) "
   ]
  },
  {
   "cell_type": "markdown",
   "metadata": {},
   "source": [
    "# 测试"
   ]
  },
  {
   "cell_type": "markdown",
   "metadata": {},
   "source": [
    "# 加载数据"
   ]
  },
  {
   "cell_type": "markdown",
   "metadata": {},
   "source": [
    "我们使用下面的“月亮（moon）”数据集来测试不同的优化方法。数据集被命名为“月亮”，因为这两个类的数据看起来有点像新月形的月亮"
   ]
  },
  {
   "cell_type": "code",
   "execution_count": 15,
   "metadata": {
    "collapsed": true
   },
   "outputs": [],
   "source": [
    "train_X, train_Y = opt_utils.load_dataset(is_plot=True)"
   ]
  },
  {
   "cell_type": "code",
   "execution_count": 16,
   "metadata": {
    "collapsed": true
   },
   "outputs": [],
   "source": [
    "def model(X,Y,layers_dims,optimizer,learning_rate=0.0007,\n",
    "          mini_batch_size=64,beta=0.9,beta1=0.9,beta2=0.999,\n",
    "          epsilon=1e-8,num_epochs=10000,print_cost=True,is_plot=True):\n",
    "\n",
    "#   \"\"\"\n",
    "#     可以运行在不同优化器模式下的3层神经网络模型。\n",
    "\n",
    "#     参数：\n",
    "#         X - 输入数据，维度为（2，输入的数据集里面样本数量）\n",
    "#         Y - 与X对应的标签\n",
    "#         layers_dims - 包含层数和节点数量的列表\n",
    "#         optimizer - 字符串类型的参数，用于选择优化类型，【 \"gd\" | \"momentum\" | \"adam\" 】\n",
    "#         learning_rate - 学习率\n",
    "#         mini_batch_size - 每个小批量数据集的大小\n",
    "#         beta - 用于动量优化的一个超参数\n",
    "#         beta1 - 用于计算梯度后的指数衰减的估计的超参数\n",
    "#         beta1 - 用于计算平方梯度后的指数衰减的估计的超参数\n",
    "#         epsilon - 用于在Adam中避免除零操作的超参数，一般不更改\n",
    "#         num_epochs - 整个训练集的遍历次数，（视频2.9学习率衰减，1分55秒处，视频中称作“代”）,相当于之前的num_iteration\n",
    "#         print_cost - 是否打印误差值，每遍历1000次数据集打印一次，但是每100次记录一个误差值，又称每1000代打印一次\n",
    "#         is_plot - 是否绘制出曲线图\n",
    "\n",
    "#     返回：\n",
    "#         parameters - 包含了学习后的参数\n",
    "\n",
    "#     \"\"\"\n",
    "    L = len(layers_dims)\n",
    "    costs = []\n",
    "    t = 0 #每学习完一个minibatch就增加1\n",
    "    seed = 10 #随机种子\n",
    "\n",
    "    #初始化参数\n",
    "    parameters = opt_utils.initialize_parameters(layers_dims)\n",
    "\n",
    "    #选择优化器\n",
    "    if optimizer == \"gd\":\n",
    "        pass #不使用任何优化器，直接使用梯度下降法\n",
    "    elif optimizer == \"momentum\":\n",
    "        v = initialize_velocity(parameters) #使用动量\n",
    "    elif optimizer == \"adam\":\n",
    "        v, s = initialize_adam(parameters)#使用Adam优化\n",
    "    else:\n",
    "        print(\"optimizer参数错误，程序退出。\")\n",
    "        exit(1)\n",
    "\n",
    "    #开始学习\n",
    "    for i in range(num_epochs):\n",
    "        #定义随机 minibatches,我们在每次遍历数据集之后增加种子以重新排列数据集，使每次数据的顺序都不同\n",
    "        seed = seed + 1\n",
    "        minibatches = random_mini_batches(X,Y,mini_batch_size,seed)\n",
    "\n",
    "        for minibatch in minibatches:\n",
    "            #选择一个minibatch\n",
    "            (minibatch_X,minibatch_Y) = minibatch\n",
    "\n",
    "            #前向传播\n",
    "            A3 , cache = opt_utils.forward_propagation(minibatch_X,parameters)\n",
    "\n",
    "            #计算误差\n",
    "            cost = opt_utils.compute_cost(A3 , minibatch_Y)\n",
    "\n",
    "            #反向传播\n",
    "            grads = opt_utils.backward_propagation(minibatch_X,minibatch_Y,cache)\n",
    "\n",
    "            #更新参数\n",
    "            if optimizer == \"gd\":\n",
    "                parameters = update_parameters_with_gd(parameters,grads,learning_rate)\n",
    "            elif optimizer == \"momentum\":\n",
    "                parameters, v = update_parameters_with_momentun(parameters,grads,v,beta,learning_rate)\n",
    "            elif optimizer == \"adam\":\n",
    "                t = t + 1 \n",
    "                parameters , v , s = update_parameters_with_adam(parameters,grads,v,s,t,learning_rate,beta1,beta2,epsilon)\n",
    "        #记录误差值\n",
    "        if i % 100 == 0:\n",
    "            costs.append(cost)\n",
    "            #是否打印误差值\n",
    "            if print_cost and i % 1000 == 0:\n",
    "                print(\"第\" + str(i) + \"次遍历整个数据集，当前误差值：\" + str(cost))\n",
    "    #是否绘制曲线图\n",
    "    if is_plot:\n",
    "        plt.plot(costs)\n",
    "        plt.ylabel('cost')\n",
    "        plt.xlabel('epochs (per 100)')\n",
    "        plt.title(\"Learning rate = \" + str(learning_rate))\n",
    "        plt.show()\n",
    "\n",
    "    return parameters"
   ]
  },
  {
   "cell_type": "markdown",
   "metadata": {},
   "source": [
    "# 梯度下降测试"
   ]
  },
  {
   "cell_type": "code",
   "execution_count": 17,
   "metadata": {},
   "outputs": [
    {
     "name": "stdout",
     "output_type": "stream",
     "text": [
      "第0次遍历整个数据集，当前误差值：0.6906452511852934\n",
      "第1000次遍历整个数据集，当前误差值：0.3617644580722811\n",
      "第2000次遍历整个数据集，当前误差值：0.3551988505178231\n",
      "第3000次遍历整个数据集，当前误差值：0.19985720285975273\n",
      "第4000次遍历整个数据集，当前误差值：0.14491313295819366\n",
      "第5000次遍历整个数据集，当前误差值：0.11604790231218427\n",
      "第6000次遍历整个数据集，当前误差值：0.13687137403463995\n",
      "第7000次遍历整个数据集，当前误差值：0.03604251127691838\n",
      "第8000次遍历整个数据集，当前误差值：0.13256052788758488\n",
      "第9000次遍历整个数据集，当前误差值：0.17587054937060373\n"
     ]
    },
    {
     "data": {
      "image/png": "[encoded data removed]",
      "text/plain": [
       "<Figure size 504x288 with 1 Axes>"
      ]
     },
     "metadata": {},
     "output_type": "display_data"
    }
   ],
   "source": [
    "#使用普通的梯度下降\n",
    "layers_dims = [train_X.shape[0],5,2,1]\n",
    "parameters = model(train_X, train_Y, layers_dims, optimizer=\"gd\",is_plot=True)\n"
   ]
  },
  {
   "cell_type": "code",
   "execution_count": 18,
   "metadata": {},
   "outputs": [
    {
     "name": "stdout",
     "output_type": "stream",
     "text": [
      "Accuracy: 0.95\n"
     ]
    },
    {
     "ename": "ValueError",
     "evalue": "'c' argument has 1 elements, which is not acceptable for use with 'x' with size 300, 'y' with size 300.",
     "output_type": "error",
     "traceback": [
      "\u001b[0;31m---------------------------------------------------------------------------\u001b[0m",
      "\u001b[0;31mTypeError\u001b[0m                                 Traceback (most recent call last)",
      "\u001b[0;32m~/anaconda3/lib/python3.6/site-packages/matplotlib/colors.py\u001b[0m in \u001b[0;36mto_rgba\u001b[0;34m(c, alpha)\u001b[0m\n\u001b[1;32m    173\u001b[0m     \u001b[0;32mtry\u001b[0m\u001b[0;34m:\u001b[0m\u001b[0;34m\u001b[0m\u001b[0;34m\u001b[0m\u001b[0m\n\u001b[0;32m--> 174\u001b[0;31m         \u001b[0mrgba\u001b[0m \u001b[0;34m=\u001b[0m \u001b[0m_colors_full_map\u001b[0m\u001b[0;34m.\u001b[0m\u001b[0mcache\u001b[0m\u001b[0;34m[\u001b[0m\u001b[0mc\u001b[0m\u001b[0;34m,\u001b[0m \u001b[0malpha\u001b[0m\u001b[0;34m]\u001b[0m\u001b[0;34m\u001b[0m\u001b[0;34m\u001b[0m\u001b[0m\n\u001b[0m\u001b[1;32m    175\u001b[0m     \u001b[0;32mexcept\u001b[0m \u001b[0;34m(\u001b[0m\u001b[0mKeyError\u001b[0m\u001b[0;34m,\u001b[0m \u001b[0mTypeError\u001b[0m\u001b[0;34m)\u001b[0m\u001b[0;34m:\u001b[0m  \u001b[0;31m# Not in cache, or unhashable.\u001b[0m\u001b[0;34m\u001b[0m\u001b[0;34m\u001b[0m\u001b[0m\n",
      "\u001b[0;31mTypeError\u001b[0m: unhashable type: 'numpy.ndarray'",
      "\nDuring handling of the above exception, another exception occurred:\n",
      "\u001b[0;31mValueError\u001b[0m                                Traceback (most recent call last)",
      "\u001b[0;32m~/anaconda3/lib/python3.6/site-packages/matplotlib/axes/_axes.py\u001b[0m in \u001b[0;36mscatter\u001b[0;34m(self, x, y, s, c, marker, cmap, norm, vmin, vmax, alpha, linewidths, verts, edgecolors, **kwargs)\u001b[0m\n\u001b[1;32m   4231\u001b[0m             \u001b[0;32mtry\u001b[0m\u001b[0;34m:\u001b[0m  \u001b[0;31m# Then is 'c' acceptable as PathCollection facecolors?\u001b[0m\u001b[0;34m\u001b[0m\u001b[0;34m\u001b[0m\u001b[0m\n\u001b[0;32m-> 4232\u001b[0;31m                 \u001b[0mcolors\u001b[0m \u001b[0;34m=\u001b[0m \u001b[0mmcolors\u001b[0m\u001b[0;34m.\u001b[0m\u001b[0mto_rgba_array\u001b[0m\u001b[0;34m(\u001b[0m\u001b[0mc\u001b[0m\u001b[0;34m)\u001b[0m\u001b[0;34m\u001b[0m\u001b[0;34m\u001b[0m\u001b[0m\n\u001b[0m\u001b[1;32m   4233\u001b[0m                 \u001b[0mn_elem\u001b[0m \u001b[0;34m=\u001b[0m \u001b[0mcolors\u001b[0m\u001b[0;34m.\u001b[0m\u001b[0mshape\u001b[0m\u001b[0;34m[\u001b[0m\u001b[0;36m0\u001b[0m\u001b[0;34m]\u001b[0m\u001b[0;34m\u001b[0m\u001b[0;34m\u001b[0m\u001b[0m\n",
      "\u001b[0;32m~/anaconda3/lib/python3.6/site-packages/matplotlib/colors.py\u001b[0m in \u001b[0;36mto_rgba_array\u001b[0;34m(c, alpha)\u001b[0m\n\u001b[1;32m    274\u001b[0m     \u001b[0;32mfor\u001b[0m \u001b[0mi\u001b[0m\u001b[0;34m,\u001b[0m \u001b[0mcc\u001b[0m \u001b[0;32min\u001b[0m \u001b[0menumerate\u001b[0m\u001b[0;34m(\u001b[0m\u001b[0mc\u001b[0m\u001b[0;34m)\u001b[0m\u001b[0;34m:\u001b[0m\u001b[0;34m\u001b[0m\u001b[0;34m\u001b[0m\u001b[0m\n\u001b[0;32m--> 275\u001b[0;31m         \u001b[0mresult\u001b[0m\u001b[0;34m[\u001b[0m\u001b[0mi\u001b[0m\u001b[0;34m]\u001b[0m \u001b[0;34m=\u001b[0m \u001b[0mto_rgba\u001b[0m\u001b[0;34m(\u001b[0m\u001b[0mcc\u001b[0m\u001b[0;34m,\u001b[0m \u001b[0malpha\u001b[0m\u001b[0;34m)\u001b[0m\u001b[0;34m\u001b[0m\u001b[0;34m\u001b[0m\u001b[0m\n\u001b[0m\u001b[1;32m    276\u001b[0m     \u001b[0;32mreturn\u001b[0m \u001b[0mresult\u001b[0m\u001b[0;34m\u001b[0m\u001b[0;34m\u001b[0m\u001b[0m\n",
      "\u001b[0;32m~/anaconda3/lib/python3.6/site-packages/matplotlib/colors.py\u001b[0m in \u001b[0;36mto_rgba\u001b[0;34m(c, alpha)\u001b[0m\n\u001b[1;32m    175\u001b[0m     \u001b[0;32mexcept\u001b[0m \u001b[0;34m(\u001b[0m\u001b[0mKeyError\u001b[0m\u001b[0;34m,\u001b[0m \u001b[0mTypeError\u001b[0m\u001b[0;34m)\u001b[0m\u001b[0;34m:\u001b[0m  \u001b[0;31m# Not in cache, or unhashable.\u001b[0m\u001b[0;34m\u001b[0m\u001b[0;34m\u001b[0m\u001b[0m\n\u001b[0;32m--> 176\u001b[0;31m         \u001b[0mrgba\u001b[0m \u001b[0;34m=\u001b[0m \u001b[0m_to_rgba_no_colorcycle\u001b[0m\u001b[0;34m(\u001b[0m\u001b[0mc\u001b[0m\u001b[0;34m,\u001b[0m \u001b[0malpha\u001b[0m\u001b[0;34m)\u001b[0m\u001b[0;34m\u001b[0m\u001b[0;34m\u001b[0m\u001b[0m\n\u001b[0m\u001b[1;32m    177\u001b[0m         \u001b[0;32mtry\u001b[0m\u001b[0;34m:\u001b[0m\u001b[0;34m\u001b[0m\u001b[0;34m\u001b[0m\u001b[0m\n",
      "\u001b[0;32m~/anaconda3/lib/python3.6/site-packages/matplotlib/colors.py\u001b[0m in \u001b[0;36m_to_rgba_no_colorcycle\u001b[0;34m(c, alpha)\u001b[0m\n\u001b[1;32m    230\u001b[0m     \u001b[0;32mif\u001b[0m \u001b[0mlen\u001b[0m\u001b[0;34m(\u001b[0m\u001b[0mc\u001b[0m\u001b[0;34m)\u001b[0m \u001b[0;32mnot\u001b[0m \u001b[0;32min\u001b[0m \u001b[0;34m[\u001b[0m\u001b[0;36m3\u001b[0m\u001b[0;34m,\u001b[0m \u001b[0;36m4\u001b[0m\u001b[0;34m]\u001b[0m\u001b[0;34m:\u001b[0m\u001b[0;34m\u001b[0m\u001b[0;34m\u001b[0m\u001b[0m\n\u001b[0;32m--> 231\u001b[0;31m         \u001b[0;32mraise\u001b[0m \u001b[0mValueError\u001b[0m\u001b[0;34m(\u001b[0m\u001b[0;34m\"RGBA sequence should have length 3 or 4\"\u001b[0m\u001b[0;34m)\u001b[0m\u001b[0;34m\u001b[0m\u001b[0;34m\u001b[0m\u001b[0m\n\u001b[0m\u001b[1;32m    232\u001b[0m     \u001b[0;32mif\u001b[0m \u001b[0mlen\u001b[0m\u001b[0;34m(\u001b[0m\u001b[0mc\u001b[0m\u001b[0;34m)\u001b[0m \u001b[0;34m==\u001b[0m \u001b[0;36m3\u001b[0m \u001b[0;32mand\u001b[0m \u001b[0malpha\u001b[0m \u001b[0;32mis\u001b[0m \u001b[0;32mNone\u001b[0m\u001b[0;34m:\u001b[0m\u001b[0;34m\u001b[0m\u001b[0;34m\u001b[0m\u001b[0m\n",
      "\u001b[0;31mValueError\u001b[0m: RGBA sequence should have length 3 or 4",
      "\nDuring handling of the above exception, another exception occurred:\n",
      "\u001b[0;31mValueError\u001b[0m                                Traceback (most recent call last)",
      "\u001b[0;32m<ipython-input-18-5b4536e0160b>\u001b[0m in \u001b[0;36m<module>\u001b[0;34m()\u001b[0m\n\u001b[1;32m      7\u001b[0m \u001b[0maxes\u001b[0m\u001b[0;34m.\u001b[0m\u001b[0mset_xlim\u001b[0m\u001b[0;34m(\u001b[0m\u001b[0;34m[\u001b[0m\u001b[0;34m-\u001b[0m\u001b[0;36m1.5\u001b[0m\u001b[0;34m,\u001b[0m \u001b[0;36m2.5\u001b[0m\u001b[0;34m]\u001b[0m\u001b[0;34m)\u001b[0m\u001b[0;34m\u001b[0m\u001b[0;34m\u001b[0m\u001b[0m\n\u001b[1;32m      8\u001b[0m \u001b[0maxes\u001b[0m\u001b[0;34m.\u001b[0m\u001b[0mset_ylim\u001b[0m\u001b[0;34m(\u001b[0m\u001b[0;34m[\u001b[0m\u001b[0;34m-\u001b[0m\u001b[0;36m1\u001b[0m\u001b[0;34m,\u001b[0m \u001b[0;36m1.5\u001b[0m\u001b[0;34m]\u001b[0m\u001b[0;34m)\u001b[0m\u001b[0;34m\u001b[0m\u001b[0;34m\u001b[0m\u001b[0m\n\u001b[0;32m----> 9\u001b[0;31m \u001b[0mopt_utils\u001b[0m\u001b[0;34m.\u001b[0m\u001b[0mplot_decision_boundary\u001b[0m\u001b[0;34m(\u001b[0m\u001b[0;32mlambda\u001b[0m \u001b[0mx\u001b[0m\u001b[0;34m:\u001b[0m \u001b[0mopt_utils\u001b[0m\u001b[0;34m.\u001b[0m\u001b[0mpredict_dec\u001b[0m\u001b[0;34m(\u001b[0m\u001b[0mparameters\u001b[0m\u001b[0;34m,\u001b[0m \u001b[0mx\u001b[0m\u001b[0;34m.\u001b[0m\u001b[0mT\u001b[0m\u001b[0;34m)\u001b[0m\u001b[0;34m,\u001b[0m \u001b[0mtrain_X\u001b[0m\u001b[0;34m,\u001b[0m \u001b[0mtrain_Y\u001b[0m\u001b[0;34m)\u001b[0m\u001b[0;34m\u001b[0m\u001b[0;34m\u001b[0m\u001b[0m\n\u001b[0m",
      "\u001b[0;32m~/AndrewNg 编程作业/第二课/第二周/opt_utils.py\u001b[0m in \u001b[0;36mplot_decision_boundary\u001b[0;34m(model, X, y)\u001b[0m\n\u001b[1;32m    235\u001b[0m     \u001b[0mplt\u001b[0m\u001b[0;34m.\u001b[0m\u001b[0mylabel\u001b[0m\u001b[0;34m(\u001b[0m\u001b[0;34m'x2'\u001b[0m\u001b[0;34m)\u001b[0m\u001b[0;34m\u001b[0m\u001b[0;34m\u001b[0m\u001b[0m\n\u001b[1;32m    236\u001b[0m     \u001b[0mplt\u001b[0m\u001b[0;34m.\u001b[0m\u001b[0mxlabel\u001b[0m\u001b[0;34m(\u001b[0m\u001b[0;34m'x1'\u001b[0m\u001b[0;34m)\u001b[0m\u001b[0;34m\u001b[0m\u001b[0;34m\u001b[0m\u001b[0m\n\u001b[0;32m--> 237\u001b[0;31m     \u001b[0mplt\u001b[0m\u001b[0;34m.\u001b[0m\u001b[0mscatter\u001b[0m\u001b[0;34m(\u001b[0m\u001b[0mX\u001b[0m\u001b[0;34m[\u001b[0m\u001b[0;36m0\u001b[0m\u001b[0;34m,\u001b[0m \u001b[0;34m:\u001b[0m\u001b[0;34m]\u001b[0m\u001b[0;34m,\u001b[0m \u001b[0mX\u001b[0m\u001b[0;34m[\u001b[0m\u001b[0;36m1\u001b[0m\u001b[0;34m,\u001b[0m \u001b[0;34m:\u001b[0m\u001b[0;34m]\u001b[0m\u001b[0;34m,\u001b[0m \u001b[0mc\u001b[0m\u001b[0;34m=\u001b[0m\u001b[0my\u001b[0m\u001b[0;34m,\u001b[0m \u001b[0mcmap\u001b[0m\u001b[0;34m=\u001b[0m\u001b[0mplt\u001b[0m\u001b[0;34m.\u001b[0m\u001b[0mcm\u001b[0m\u001b[0;34m.\u001b[0m\u001b[0mSpectral\u001b[0m\u001b[0;34m)\u001b[0m\u001b[0;34m\u001b[0m\u001b[0;34m\u001b[0m\u001b[0m\n\u001b[0m\u001b[1;32m    238\u001b[0m     \u001b[0mplt\u001b[0m\u001b[0;34m.\u001b[0m\u001b[0mshow\u001b[0m\u001b[0;34m(\u001b[0m\u001b[0;34m)\u001b[0m\u001b[0;34m\u001b[0m\u001b[0;34m\u001b[0m\u001b[0m\n\u001b[1;32m    239\u001b[0m \u001b[0;34m\u001b[0m\u001b[0m\n",
      "\u001b[0;32m~/anaconda3/lib/python3.6/site-packages/matplotlib/pyplot.py\u001b[0m in \u001b[0;36mscatter\u001b[0;34m(x, y, s, c, marker, cmap, norm, vmin, vmax, alpha, linewidths, verts, edgecolors, data, **kwargs)\u001b[0m\n\u001b[1;32m   2862\u001b[0m         \u001b[0mvmin\u001b[0m\u001b[0;34m=\u001b[0m\u001b[0mvmin\u001b[0m\u001b[0;34m,\u001b[0m \u001b[0mvmax\u001b[0m\u001b[0;34m=\u001b[0m\u001b[0mvmax\u001b[0m\u001b[0;34m,\u001b[0m \u001b[0malpha\u001b[0m\u001b[0;34m=\u001b[0m\u001b[0malpha\u001b[0m\u001b[0;34m,\u001b[0m \u001b[0mlinewidths\u001b[0m\u001b[0;34m=\u001b[0m\u001b[0mlinewidths\u001b[0m\u001b[0;34m,\u001b[0m\u001b[0;34m\u001b[0m\u001b[0;34m\u001b[0m\u001b[0m\n\u001b[1;32m   2863\u001b[0m         verts=verts, edgecolors=edgecolors, **({\"data\": data} if data\n\u001b[0;32m-> 2864\u001b[0;31m         is not None else {}), **kwargs)\n\u001b[0m\u001b[1;32m   2865\u001b[0m     \u001b[0msci\u001b[0m\u001b[0;34m(\u001b[0m\u001b[0m__ret\u001b[0m\u001b[0;34m)\u001b[0m\u001b[0;34m\u001b[0m\u001b[0;34m\u001b[0m\u001b[0m\n\u001b[1;32m   2866\u001b[0m     \u001b[0;32mreturn\u001b[0m \u001b[0m__ret\u001b[0m\u001b[0;34m\u001b[0m\u001b[0;34m\u001b[0m\u001b[0m\n",
      "\u001b[0;32m~/anaconda3/lib/python3.6/site-packages/matplotlib/__init__.py\u001b[0m in \u001b[0;36minner\u001b[0;34m(ax, data, *args, **kwargs)\u001b[0m\n\u001b[1;32m   1808\u001b[0m                         \u001b[0;34m\"the Matplotlib list!)\"\u001b[0m \u001b[0;34m%\u001b[0m \u001b[0;34m(\u001b[0m\u001b[0mlabel_namer\u001b[0m\u001b[0;34m,\u001b[0m \u001b[0mfunc\u001b[0m\u001b[0;34m.\u001b[0m\u001b[0m__name__\u001b[0m\u001b[0;34m)\u001b[0m\u001b[0;34m,\u001b[0m\u001b[0;34m\u001b[0m\u001b[0;34m\u001b[0m\u001b[0m\n\u001b[1;32m   1809\u001b[0m                         RuntimeWarning, stacklevel=2)\n\u001b[0;32m-> 1810\u001b[0;31m             \u001b[0;32mreturn\u001b[0m \u001b[0mfunc\u001b[0m\u001b[0;34m(\u001b[0m\u001b[0max\u001b[0m\u001b[0;34m,\u001b[0m \u001b[0;34m*\u001b[0m\u001b[0margs\u001b[0m\u001b[0;34m,\u001b[0m \u001b[0;34m**\u001b[0m\u001b[0mkwargs\u001b[0m\u001b[0;34m)\u001b[0m\u001b[0;34m\u001b[0m\u001b[0;34m\u001b[0m\u001b[0m\n\u001b[0m\u001b[1;32m   1811\u001b[0m \u001b[0;34m\u001b[0m\u001b[0m\n\u001b[1;32m   1812\u001b[0m         inner.__doc__ = _add_data_doc(inner.__doc__,\n",
      "\u001b[0;32m~/anaconda3/lib/python3.6/site-packages/matplotlib/axes/_axes.py\u001b[0m in \u001b[0;36mscatter\u001b[0;34m(self, x, y, s, c, marker, cmap, norm, vmin, vmax, alpha, linewidths, verts, edgecolors, **kwargs)\u001b[0m\n\u001b[1;32m   4243\u001b[0m                         \u001b[0;34m\"acceptable for use with 'x' with size {xs}, \"\u001b[0m\u001b[0;34m\u001b[0m\u001b[0;34m\u001b[0m\u001b[0m\n\u001b[1;32m   4244\u001b[0m                         \u001b[0;34m\"'y' with size {ys}.\"\u001b[0m\u001b[0;34m\u001b[0m\u001b[0;34m\u001b[0m\u001b[0m\n\u001b[0;32m-> 4245\u001b[0;31m                         \u001b[0;34m.\u001b[0m\u001b[0mformat\u001b[0m\u001b[0;34m(\u001b[0m\u001b[0mnc\u001b[0m\u001b[0;34m=\u001b[0m\u001b[0mn_elem\u001b[0m\u001b[0;34m,\u001b[0m \u001b[0mxs\u001b[0m\u001b[0;34m=\u001b[0m\u001b[0mx\u001b[0m\u001b[0;34m.\u001b[0m\u001b[0msize\u001b[0m\u001b[0;34m,\u001b[0m \u001b[0mys\u001b[0m\u001b[0;34m=\u001b[0m\u001b[0my\u001b[0m\u001b[0;34m.\u001b[0m\u001b[0msize\u001b[0m\u001b[0;34m)\u001b[0m\u001b[0;34m\u001b[0m\u001b[0;34m\u001b[0m\u001b[0m\n\u001b[0m\u001b[1;32m   4246\u001b[0m                     )\n\u001b[1;32m   4247\u001b[0m                 \u001b[0;31m# Both the mapping *and* the RGBA conversion failed: pretty\u001b[0m\u001b[0;34m\u001b[0m\u001b[0;34m\u001b[0m\u001b[0;34m\u001b[0m\u001b[0m\n",
      "\u001b[0;31mValueError\u001b[0m: 'c' argument has 1 elements, which is not acceptable for use with 'x' with size 300, 'y' with size 300."
     ]
    }
   ],
   "source": [
    "#预测\n",
    "preditions = opt_utils.predict(train_X,train_Y,parameters)\n",
    "\n",
    "#绘制分类图\n",
    "plt.title(\"Model with Gradient Descent optimization\")\n",
    "axes = plt.gca()\n",
    "axes.set_xlim([-1.5, 2.5])\n",
    "axes.set_ylim([-1, 1.5])\n",
    "opt_utils.plot_decision_boundary(lambda x: opt_utils.predict_dec(parameters, x.T), train_X, train_Y)"
   ]
  },
  {
   "cell_type": "code",
   "execution_count": null,
   "metadata": {
    "collapsed": true
   },
   "outputs": [],
   "source": []
  }
 ],
 "metadata": {
  "kernelspec": {
   "display_name": "Python 3",
   "language": "python",
   "name": "python3"
  },
  "language_info": {
   "codemirror_mode": {
    "name": "ipython",
    "version": 3
   },
   "file_extension": ".py",
   "mimetype": "text/x-python",
   "name": "python",
   "nbconvert_exporter": "python",
   "pygments_lexer": "ipython3",
   "version": "3.6.8"
  }
 },
 "nbformat": 4,
 "nbformat_minor": 2
}
